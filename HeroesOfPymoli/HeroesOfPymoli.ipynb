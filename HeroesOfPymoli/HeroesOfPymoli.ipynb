{
 "cells": [
  {
   "cell_type": "code",
   "execution_count": null,
   "metadata": {},
   "outputs": [],
   "source": [
    "# Dependencies and Setup\n",
    "import pandas as pd\n",
    "\n",
    "# File to Load \n",
    "file_to_load = \"Resources/purchase_data.csv\"\n",
    "\n",
    "# Read Purchasing File and store into Pandas data frame\n",
    "purchase_data_df = pd.read_csv(file_to_load)\n",
    "purchase_data_df.head()"
   ]
  },
  {
   "cell_type": "markdown",
   "metadata": {},
   "source": [
    "###  **Player Count**"
   ]
  },
  {
   "cell_type": "code",
   "execution_count": null,
   "metadata": {},
   "outputs": [],
   "source": [
    "# Total number of players\n",
    "unique_player = purchase_data_df[\"SN\"].unique()\n",
    "total_player = len(unique_player)\n",
    "total_player_df = pd.DataFrame({\"Total players\" : [total_player]})\n",
    "total_player_df"
   ]
  },
  {
   "cell_type": "markdown",
   "metadata": {},
   "source": [
    "### **Purchasing Analysis (Total)**"
   ]
  },
  {
   "cell_type": "code",
   "execution_count": null,
   "metadata": {},
   "outputs": [],
   "source": [
    "# Number of unique items\n",
    "unique_item = purchase_data_df[\"Item ID\"].unique()\n",
    "total_unique_item = len(unique_item)\n",
    "\n",
    "# Average price\n",
    "ave_price = purchase_data_df[\"Price\"].mean()\n",
    "\n",
    "# Number of purchase\n",
    "number_item = purchase_data_df[\"Item ID\"].count()\n",
    "\n",
    "# Total revenue\n",
    "total_rev = ave_price * number_item\n",
    "\n",
    "# Create dataframe\n",
    "purchase_total_df = pd.DataFrame({\"Number of unique items\" : [total_unique_item],\n",
    "                                  \"Average price\" : ave_price,\n",
    "                                  \"Number of purchase\" : number_item,\n",
    "                                  \"Total revenue\" : total_rev})\n",
    "\n",
    "# Clean format\n",
    "purchase_total_df[\"Average price\"] = purchase_total_df[\"Average price\"].map(\"${: .2f}\".format)\n",
    "purchase_total_df[\"Total revenue\"] = purchase_total_df[\"Total revenue\"].map(\"${: .2f}\".format)\n",
    "\n",
    "purchase_total_df"
   ]
  },
  {
   "cell_type": "markdown",
   "metadata": {},
   "source": [
    "### **Gender Demographics**\n"
   ]
  },
  {
   "cell_type": "code",
   "execution_count": null,
   "metadata": {},
   "outputs": [],
   "source": [
    "# Delete duplicate players\n",
    "no_duplicate_player_df = purchase_data_df.drop_duplicates([\"SN\"])\n",
    "\n",
    "# Create a dataframe\n",
    "gender_count_df = no_duplicate_player_df[\"Gender\"].value_counts().to_frame()\n",
    "\n",
    "# Add percentage and clean the dataframe \n",
    "gender_count_df[\"Percentage of players\"] = gender_count_df[\"Gender\"]/total_player * 100\n",
    "gender_count_df = gender_count_df.rename(columns={\"Gender\" : \"Total Count\"})\n",
    "gender_count_df[\"Percentage of players\"] = gender_count_df[\"Percentage of players\"].map(\"{: .2f}%\".format)\n",
    "                                                  \n",
    "gender_count_df"
   ]
  },
  {
   "cell_type": "markdown",
   "metadata": {},
   "source": [
    "### **Purchasing Analysis (Gender)**"
   ]
  },
  {
   "cell_type": "code",
   "execution_count": null,
   "metadata": {},
   "outputs": [],
   "source": [
    "# Create a dataframe grouped by gender\n",
    "purchase_gender_df = purchase_data_df.groupby([\"Gender\"])\n",
    "\n",
    "# Purchase count, total price and average price\n",
    "purchase_gender_count = purchase_gender_df[\"Item ID\"].count()\n",
    "total_gender_price = purchase_gender_df[\"Price\"].sum()\n",
    "ave_gender_price = total_gender_price/purchase_gender_count\n",
    "\n",
    "# Average price per person\n",
    "total_gender_player = no_duplicate_player_df.groupby([\"Gender\"])[\"Item ID\"].count()\n",
    "ave_person_price = total_gender_price/total_gender_player\n",
    "\n",
    "# Create a new dataframe and clean format\n",
    "purchase_ana_gender_df = pd.DataFrame({\"Purchase count\" : purchase_gender_count,\n",
    "                                       \"Average purchase price\" : ave_gender_price,\n",
    "                                       \"Total purchase value\" : total_gender_price,\n",
    "                                       \"Ave total purchase per person\": ave_person_price})\n",
    "\n",
    "purchase_ana_gender_df[\"Average purchase price\"] = purchase_ana_gender_df[\"Average purchase price\"].map(\"${:.2f}\".format)\n",
    "purchase_ana_gender_df[\"Total purchase value\"] = purchase_ana_gender_df[\"Total purchase value\"].map(\"${:.2f}\".format)\n",
    "purchase_ana_gender_df[\"Ave total purchase per person\"] = purchase_ana_gender_df[\"Ave total purchase per person\"].map(\"${:.2f}\".format)\n",
    "\n",
    "purchase_ana_gender_df\n"
   ]
  },
  {
   "cell_type": "markdown",
   "metadata": {},
   "source": [
    "### **Age Demographics**"
   ]
  },
  {
   "cell_type": "code",
   "execution_count": null,
   "metadata": {},
   "outputs": [],
   "source": [
    "# Add one column with bins based on age\n",
    "bins = [0,9,14,19,24,29,34,39,100]\n",
    "group_label = [\"<10\", \"10~14\",\"15~19\",\"20~24\",\"25~29\",\"30~34\",\"35~39\",\"40+\"]\n",
    "copy_df = no_duplicate_player_df.copy()\n",
    "copy_df[\"Age range\"] = pd.cut(purchase_data_df[\"Age\"], bins, labels = group_label)\n",
    "\n",
    "# Create a dataframe grouped by age range\n",
    "purchase_age_df = copy_df.groupby([\"Age range\"])\n",
    "\n",
    "# Total players and percentage\n",
    "total_age_player = purchase_age_df[\"SN\"].count()\n",
    "percentage_age_player = total_age_player/total_player * 100\n",
    "\n",
    "# Create a new dataframe and clean format\n",
    "age_count_df = pd.DataFrame({\"Total count\" : total_age_player,\n",
    "                              \"Percentage of player\" : percentage_age_player})\n",
    "\n",
    "age_count_df[\"Percentage of player\"] = age_count_df[\"Percentage of player\"].map(\"{:.2f}%\".format)\n",
    "\n",
    "age_count_df"
   ]
  },
  {
   "cell_type": "markdown",
   "metadata": {},
   "source": [
    "### **Purchasing Analysis (Age)**"
   ]
  },
  {
   "cell_type": "code",
   "execution_count": null,
   "metadata": {},
   "outputs": [],
   "source": [
    "# Create a dataframe grouped by age range with duplicates\n",
    "copy_df2 = purchase_data_df.copy()\n",
    "copy_df2[\"Age range\"] = pd.cut(purchase_data_df[\"Age\"], bins, labels = group_label)\n",
    "purchase_age_df2 = copy_df2.groupby([\"Age range\"])\n",
    "\n",
    "# Purchase count, total price and average price\n",
    "purchase_age_count = purchase_age_df2[\"Item ID\"].count()\n",
    "total_age_price = purchase_age_df2[\"Price\"].sum()\n",
    "ave_age_price = total_age_price/purchase_age_count\n",
    "\n",
    "# Average price per person\n",
    "total_age_player = purchase_age_df[\"Item ID\"].count()\n",
    "ave_person_age_price = total_age_price/total_age_player\n",
    "\n",
    "# Create a new dataframe and clean format\n",
    "purchase_ana_age_df = pd.DataFrame({\"Purchase count\" : purchase_age_count,\n",
    "                                       \"Average purchase price\" : ave_age_price,\n",
    "                                       \"Total purchase value\" : total_age_price,\n",
    "                                       \"Ave total purchase per person\": ave_person_age_price})\n",
    "\n",
    "purchase_ana_age_df[\"Average purchase price\"] = purchase_ana_age_df[\"Average purchase price\"].map(\"${:.2f}\".format)\n",
    "purchase_ana_age_df[\"Total purchase value\"] = purchase_ana_age_df[\"Total purchase value\"].map(\"${:.2f}\".format)\n",
    "purchase_ana_age_df[\"Ave total purchase per person\"] = purchase_ana_age_df[\"Ave total purchase per person\"].map(\"${:.2f}\".format)\n",
    "\n",
    "purchase_ana_age_df"
   ]
  },
  {
   "cell_type": "markdown",
   "metadata": {},
   "source": [
    "### **Top Spenders**"
   ]
  },
  {
   "cell_type": "code",
   "execution_count": null,
   "metadata": {},
   "outputs": [],
   "source": [
    "# Create a dataframe grouped by SN range with duplicates\n",
    "purchase_SN_df = copy_df2.groupby([\"SN\"])\n",
    "\n",
    "# Purchase count, total price and average price\n",
    "purchase_SN_count = purchase_SN_df[\"Purchase ID\"].count()\n",
    "total_SN_price = purchase_SN_df[\"Price\"].sum()\n",
    "ave_SN_price = total_SN_price/purchase_SN_count\n",
    "\n",
    "# Create a new dataframe and clean format\n",
    "purchase_ana_SN_df = pd.DataFrame({\"Purchase count\" : purchase_SN_count,\n",
    "                                   \"Average purchase price\" : ave_SN_price,\n",
    "                                   \"Total purchase value\" : total_SN_price})\n",
    "\n",
    "# Sort the dataframe\n",
    "purchase_ana_SN_df = purchase_ana_SN_df.sort_values(\"Total purchase value\", ascending = False)\n",
    "\n",
    "# Clean format of the dataframe\n",
    "purchase_ana_SN_df[\"Average purchase price\"] = purchase_ana_SN_df[\"Average purchase price\"].map(\"${:.2f}\".format)\n",
    "purchase_ana_SN_df[\"Total purchase value\"] = purchase_ana_SN_df[\"Total purchase value\"].map(\"${:.2f}\".format)\n",
    "\n",
    "purchase_ana_SN_df.head()"
   ]
  },
  {
   "cell_type": "markdown",
   "metadata": {},
   "source": [
    "### **Most Popular Items**"
   ]
  },
  {
   "cell_type": "code",
   "execution_count": null,
   "metadata": {},
   "outputs": [],
   "source": [
    "# Create a dataframe grouped by item id and name range with duplicates\n",
    "purchase_item_df = copy_df2.groupby([\"Item ID\", \"Item Name\"])\n",
    "\n",
    "# Purchase count, total price and average price\n",
    "purchase_item_count = purchase_item_df[\"SN\"].count()\n",
    "item_price = purchase_item_df[\"Price\"].unique()\n",
    "total_item_price = purchase_item_count * item_price\n",
    "\n",
    "# Create a new dataframe and clean format\n",
    "purchase_ana_item_df = pd.DataFrame({\"Purchase count\" : purchase_item_count,\n",
    "                                   \"Item price\" : item_price,\n",
    "                                   \"Total purchase value\" : total_item_price})\n",
    "\n",
    "# Sort the dataframe and change some data into float\n",
    "purchase_ana_item_df = purchase_ana_item_df.sort_values(\"Purchase count\", ascending = False)\n",
    "purchase_ana_item_df[\"Item price\"] = purchase_ana_item_df[\"Item price\"].astype(float)\n",
    "purchase_ana_item_df[\"Total purchase value\"] = purchase_ana_item_df[\"Total purchase value\"].astype(float)\n",
    "\n",
    "\n",
    "# Clean format of the dataframe\n",
    "purchase_ana_item_df[\"Item price\"] = purchase_ana_item_df[\"Item price\"].map(\"${:.2f}\".format)\n",
    "purchase_ana_item_df[\"Total purchase value\"] = purchase_ana_item_df[\"Total purchase value\"].map(\"${:.2f}\".format)\n",
    "\n",
    "purchase_ana_item_df.head()"
   ]
  },
  {
   "cell_type": "markdown",
   "metadata": {},
   "source": [
    "### **Most Profitable Items**"
   ]
  },
  {
   "cell_type": "code",
   "execution_count": null,
   "metadata": {},
   "outputs": [],
   "source": [
    "# Create a dataframe grouped by item id and name range with duplicates\n",
    "purchase_pro_df = copy_df2.groupby([\"Item ID\", \"Item Name\"])\n",
    "\n",
    "# Purchase count, total price and average price\n",
    "purchase_pro_count = purchase_pro_df[\"SN\"].count()\n",
    "pro_price = purchase_pro_df[\"Price\"].unique()\n",
    "total_pro_price = purchase_pro_count * item_price\n",
    "\n",
    "# Create a new dataframe and clean format\n",
    "purchase_ana_pro_df = pd.DataFrame({\"Purchase count\" : purchase_pro_count,\n",
    "                                   \"Item price\" : pro_price,\n",
    "                                   \"Total purchase value\" : total_pro_price})\n",
    "\n",
    "# Sort the dataframe and change some data into float\n",
    "purchase_ana_pro_df[\"Item price\"] = purchase_ana_pro_df[\"Item price\"].astype(float)\n",
    "purchase_ana_pro_df[\"Total purchase value\"] = purchase_ana_pro_df[\"Total purchase value\"].astype(float)\n",
    "purchase_ana_pro_df = purchase_ana_pro_df.sort_values(\"Total purchase value\", ascending = False)\n",
    "\n",
    "# Clean format of the dataframe\n",
    "purchase_ana_pro_df[\"Item price\"] = purchase_ana_pro_df[\"Item price\"].map(\"${:.2f}\".format)\n",
    "purchase_ana_pro_df[\"Total purchase value\"] = purchase_ana_pro_df[\"Total purchase value\"].map(\"${:.2f}\".format)\n",
    "\n",
    "purchase_ana_pro_df.head()"
   ]
  }
 ],
 "metadata": {
  "kernelspec": {
   "display_name": "Python 3",
   "language": "python",
   "name": "python3"
  },
  "language_info": {
   "codemirror_mode": {
    "name": "ipython",
    "version": 3
   },
   "file_extension": ".py",
   "mimetype": "text/x-python",
   "name": "python",
   "nbconvert_exporter": "python",
   "pygments_lexer": "ipython3",
   "version": "3.7.4"
  }
 },
 "nbformat": 4,
 "nbformat_minor": 4
}
